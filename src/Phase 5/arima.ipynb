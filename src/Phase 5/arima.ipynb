{
 "metadata": {
  "language_info": {
   "codemirror_mode": {
    "name": "ipython",
    "version": 3
   },
   "file_extension": ".py",
   "mimetype": "text/x-python",
   "name": "python",
   "nbconvert_exporter": "python",
   "pygments_lexer": "ipython3",
   "version": 3
  },
  "orig_nbformat": 2
 },
 "nbformat": 4,
 "nbformat_minor": 2,
 "cells": [
  {
   "cell_type": "code",
   "execution_count": null,
   "metadata": {},
   "outputs": [],
   "source": [
    "import numpy as np\n",
    "import pandas as pd\n",
    "from pandas import read_csv\n",
    "from datetime import datetime\n",
    "from statsmodels.tsa.seasonal import seasonal_decompose\n",
    "import matplotlib\n",
    "import matplotlib.pyplot as plt\n",
    "import math"
   ]
  },
  {
   "cell_type": "code",
   "execution_count": null,
   "metadata": {},
   "outputs": [],
   "source": [
    "date_parser = lambda d: datetime.strptime(d, '%Y%m')\n",
    "\n",
    "# Read Dataset from CSV into Pandas Dataframe.\n",
    "indexed_data_df = read_csv(\n",
    "    '../../data/data.csv',\n",
    "    names=['date', 'temperature'],\n",
    "    dtype={'date': 'str', 'temperature': 'float'},\n",
    "    parse_dates=['date'],\n",
    "    date_parser=date_parser,\n",
    "    index_col='date'\n",
    ")\n",
    "\n",
    "data_df = read_csv(\n",
    "    '../../data/data.csv',\n",
    "    names=['date', 'temperature'],\n",
    "    dtype={'date': 'str', 'temperature': 'float'},\n",
    "    parse_dates=['date'],\n",
    "    date_parser=date_parser\n",
    ")\n",
    "np_data = np.array([[np.datetime64(d), t] for d, t in data_df.to_numpy()])"
   ]
  },
  {
   "cell_type": "code",
   "execution_count": null,
   "metadata": {},
   "outputs": [],
   "source": [
    "from statsmodels.tsa.arima.model import ARIMA\n",
    "\n",
    "model = ARIMA(indexed_data_df)\n",
    "model_fit = model.fit(disp=0)\n",
    "\n"
   ]
  }
 ]
}