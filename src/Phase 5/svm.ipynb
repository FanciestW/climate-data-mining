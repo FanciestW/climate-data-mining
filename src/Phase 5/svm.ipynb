{
 "metadata": {
  "language_info": {
   "codemirror_mode": {
    "name": "ipython",
    "version": 3
   },
   "file_extension": ".py",
   "mimetype": "text/x-python",
   "name": "python",
   "nbconvert_exporter": "python",
   "pygments_lexer": "ipython3",
   "version": "3.8.2-final"
  },
  "orig_nbformat": 2,
  "kernelspec": {
   "name": "python3",
   "display_name": "Python 3"
  }
 },
 "nbformat": 4,
 "nbformat_minor": 2,
 "cells": [
  {
   "cell_type": "code",
   "execution_count": 1,
   "metadata": {},
   "outputs": [],
   "source": [
    "import numpy as np\n",
    "import pandas as pd\n",
    "from pandas import read_csv\n",
    "from datetime import datetime\n",
    "from statsmodels.tsa.seasonal import seasonal_decompose\n",
    "import matplotlib\n",
    "import math"
   ]
  },
  {
   "cell_type": "code",
   "execution_count": 2,
   "metadata": {},
   "outputs": [],
   "source": [
    "date_parser = lambda d: datetime.strptime(d, '%Y%m')\n",
    "\n",
    "# Read Dataset from CSV into Pandas Dataframe.\n",
    "indexed_data_df = read_csv(\n",
    "    '../../data/data.csv',\n",
    "    names=['date', 'temperature'],\n",
    "    dtype={'date': 'str', 'temperature': 'float'},\n",
    "    parse_dates=['date'],\n",
    "    date_parser=date_parser,\n",
    "    index_col='date'\n",
    ")\n",
    "\n",
    "data_df = read_csv(\n",
    "    '../../data/data.csv',\n",
    "    names=['date', 'temperature'],\n",
    "    dtype={'date': 'str', 'temperature': 'float'},\n",
    "    parse_dates=['date'],\n",
    "    date_parser=date_parser\n",
    ")"
   ]
  },
  {
   "cell_type": "code",
   "execution_count": 3,
   "metadata": {},
   "outputs": [
    {
     "output_type": "stream",
     "name": "stdout",
     "text": [
      "[[numpy.datetime64('1880-07-01T00:00:00.000000000') -0.12625]\n [numpy.datetime64('1880-08-01T00:00:00.000000000') -0.12375]\n [numpy.datetime64('1880-09-01T00:00:00.000000000') -0.11375]\n ...\n [numpy.datetime64('2019-12-01T00:00:00.000000000') 1.01125]\n [numpy.datetime64('2020-01-01T00:00:00.000000000') 1.00917]\n [numpy.datetime64('2020-02-01T00:00:00.000000000') 1.00917]]\n"
     ]
    }
   ],
   "source": [
    "# Isolate dataset trend only and save it as a numpy array\n",
    "decompose_res = seasonal_decompose(indexed_data_df, model='additive', freq=12)\n",
    "trend_data_np = np.array([[d, round(t, 5)] for d, t in zip(data_df['date'].to_numpy(), decompose_res.trend) if not math.isnan(t)])\n",
    "print(trend_data_np)"
   ]
  },
  {
   "cell_type": "code",
   "execution_count": 6,
   "metadata": {},
   "outputs": [
    {
     "output_type": "execute_result",
     "data": {
      "text/plain": [
       "Pipeline(steps=[('standardscaler', StandardScaler()),\n",
       "                ('linearsvr', LinearSVR())])"
      ]
     },
     "metadata": {},
     "execution_count": 6
    }
   ],
   "source": [
    "from sklearn.svm import LinearSVR\n",
    "from sklearn.preprocessing import StandardScaler\n",
    "from sklearn.pipeline import make_pipeline\n",
    "\n",
    "linear_svr_model = make_pipeline(StandardScaler(), LinearSVR())\n",
    "linear_svr_model.fit(trend_data_np[:,0].reshape((-1, 1)), trend_data_np[:,1])"
   ]
  },
  {
   "cell_type": "code",
   "execution_count": 24,
   "metadata": {},
   "outputs": [
    {
     "output_type": "error",
     "ename": "AttributeError",
     "evalue": "'numpy.ndarray' object has no attribute 'append'",
     "traceback": [
      "\u001b[0;31m---------------------------------------------------------------------------\u001b[0m",
      "\u001b[0;31mAttributeError\u001b[0m                            Traceback (most recent call last)",
      "\u001b[0;32m<ipython-input-24-d0c4b71a51c4>\u001b[0m in \u001b[0;36m<module>\u001b[0;34m\u001b[0m\n\u001b[1;32m      8\u001b[0m     \u001b[0mcurr_date\u001b[0m \u001b[0;34m+=\u001b[0m \u001b[0mrelativedelta\u001b[0m\u001b[0;34m.\u001b[0m\u001b[0mrelativedelta\u001b[0m\u001b[0;34m(\u001b[0m\u001b[0mmonths\u001b[0m\u001b[0;34m=\u001b[0m\u001b[0;36m1\u001b[0m\u001b[0;34m)\u001b[0m\u001b[0;34m\u001b[0m\u001b[0;34m\u001b[0m\u001b[0m\n\u001b[1;32m      9\u001b[0m     \u001b[0mcurr_date\u001b[0m\u001b[0;34m.\u001b[0m\u001b[0mreplace\u001b[0m\u001b[0;34m(\u001b[0m\u001b[0mday\u001b[0m\u001b[0;34m=\u001b[0m\u001b[0;36m1\u001b[0m\u001b[0;34m,\u001b[0m \u001b[0mhour\u001b[0m\u001b[0;34m=\u001b[0m\u001b[0;36m0\u001b[0m\u001b[0;34m,\u001b[0m \u001b[0mminute\u001b[0m\u001b[0;34m=\u001b[0m\u001b[0;36m0\u001b[0m\u001b[0;34m,\u001b[0m \u001b[0msecond\u001b[0m\u001b[0;34m=\u001b[0m\u001b[0;36m0\u001b[0m\u001b[0;34m,\u001b[0m \u001b[0mmicrosecond\u001b[0m\u001b[0;34m=\u001b[0m\u001b[0;36m0\u001b[0m\u001b[0;34m)\u001b[0m\u001b[0;34m\u001b[0m\u001b[0;34m\u001b[0m\u001b[0m\n\u001b[0;32m---> 10\u001b[0;31m     \u001b[0mnp_future_dates\u001b[0m\u001b[0;34m.\u001b[0m\u001b[0mappend\u001b[0m\u001b[0;34m(\u001b[0m\u001b[0mnp_future_dates\u001b[0m\u001b[0;34m,\u001b[0m \u001b[0mnp\u001b[0m\u001b[0;34m.\u001b[0m\u001b[0mdatetime64\u001b[0m\u001b[0;34m(\u001b[0m\u001b[0mcurr_date\u001b[0m\u001b[0;34m)\u001b[0m\u001b[0;34m)\u001b[0m\u001b[0;34m\u001b[0m\u001b[0;34m\u001b[0m\u001b[0m\n\u001b[0m\u001b[1;32m     11\u001b[0m \u001b[0;34m\u001b[0m\u001b[0m\n\u001b[1;32m     12\u001b[0m \u001b[0;31m# linear_svr_model.predict()\u001b[0m\u001b[0;34m\u001b[0m\u001b[0;34m\u001b[0m\u001b[0;34m\u001b[0m\u001b[0m\n",
      "\u001b[0;31mAttributeError\u001b[0m: 'numpy.ndarray' object has no attribute 'append'"
     ]
    }
   ],
   "source": [
    "from datetime import date\n",
    "from dateutil import relativedelta\n",
    "\n",
    "# Generate Future Dates\n",
    "np_future_dates = np.array()\n",
    "curr_date = datetime.today().replace(day=1, hour=0, minute=0, second=0, microsecond=0)\n",
    "while curr_date <= datetime.strptime('01-2050', '%m-%Y'):\n",
    "    curr_date += relativedelta.relativedelta(months=1)\n",
    "    curr_date.replace(day=1, hour=0, minute=0, second=0, microsecond=0)\n",
    "    np_future_dates.append(np.datetime64(curr_date))\n",
    "np_future_dates = np.array(np_future_dates)\n",
    "\n",
    "# linear_svr_model.predict()"
   ]
  },
  {
   "cell_type": "code",
   "execution_count": null,
   "metadata": {},
   "outputs": [],
   "source": []
  }
 ]
}