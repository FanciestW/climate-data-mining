{
 "metadata": {
  "language_info": {
   "codemirror_mode": {
    "name": "ipython",
    "version": 3
   },
   "file_extension": ".py",
   "mimetype": "text/x-python",
   "name": "python",
   "nbconvert_exporter": "python",
   "pygments_lexer": "ipython3",
   "version": "3.8.2-final"
  },
  "orig_nbformat": 2,
  "kernelspec": {
   "name": "python3",
   "display_name": "Python 3"
  }
 },
 "nbformat": 4,
 "nbformat_minor": 2,
 "cells": [
  {
   "cell_type": "code",
   "execution_count": 18,
   "metadata": {},
   "outputs": [],
   "source": [
    "import numpy as np\n",
    "import pandas as pd\n",
    "from pandas import read_csv\n",
    "from datetime import datetime\n",
    "from statsmodels.tsa.seasonal import seasonal_decompose\n",
    "import matplotlib\n",
    "import math"
   ]
  },
  {
   "cell_type": "code",
   "execution_count": 19,
   "metadata": {},
   "outputs": [],
   "source": [
    "date_parser = lambda d: datetime.strptime(d, '%Y%m')\n",
    "\n",
    "# Read Dataset from CSV into Pandas Dataframe.\n",
    "indexed_data_df = read_csv(\n",
    "    '../../data/data.csv',\n",
    "    names=['date', 'temperature'],\n",
    "    dtype={'date': 'str', 'temperature': 'float'},\n",
    "    parse_dates=['date'],\n",
    "    date_parser=date_parser,\n",
    "    index_col='date'\n",
    ")\n",
    "\n",
    "data_df = read_csv(\n",
    "    '../../data/data.csv',\n",
    "    names=['date', 'temperature'],\n",
    "    dtype={'date': 'str', 'temperature': 'float'},\n",
    "    parse_dates=['date'],\n",
    "    date_parser=date_parser\n",
    ")"
   ]
  },
  {
   "cell_type": "code",
   "execution_count": 22,
   "metadata": {},
   "outputs": [],
   "source": [
    "# Isolate dataset trend only and save it as a numpy array\n",
    "decompose_res = seasonal_decompose(indexed_data_df, model='additive', freq=12)\n",
    "trend_data_np = np.array([[d, round(t, 5)] for d, t in zip(data_df['date'].to_numpy(), decompose_res.trend) if not math.isnan(t)])"
   ]
  },
  {
   "cell_type": "code",
   "execution_count": null,
   "metadata": {},
   "outputs": [],
   "source": []
  }
 ]
}